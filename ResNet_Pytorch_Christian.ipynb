{
  "nbformat": 4,
  "nbformat_minor": 0,
  "metadata": {
    "colab": {
      "provenance": [],
      "gpuType": "T4",
      "authorship_tag": "ABX9TyPQXP9MMw3qX6Mkc3HgxJJw",
      "include_colab_link": true
    },
    "kernelspec": {
      "name": "python3",
      "display_name": "Python 3"
    },
    "language_info": {
      "name": "python"
    },
    "accelerator": "GPU"
  },
  "cells": [
    {
      "cell_type": "markdown",
      "metadata": {
        "id": "view-in-github",
        "colab_type": "text"
      },
      "source": [
        "<a href=\"https://colab.research.google.com/github/panchrissantfdz/Analisis-de-Imagenes-CIC-IPN/blob/main/ResNet_Pytorch_Christian.ipynb\" target=\"_parent\"><img src=\"https://colab.research.google.com/assets/colab-badge.svg\" alt=\"Open In Colab\"/></a>"
      ]
    },
    {
      "cell_type": "code",
      "source": [
        "#!pip install --upgrade torch torchvision"
      ],
      "metadata": {
        "id": "Or8U5-H1XHTx"
      },
      "execution_count": null,
      "outputs": []
    },
    {
      "cell_type": "code",
      "execution_count": null,
      "metadata": {
        "id": "Kl8_qiI7UPpn"
      },
      "outputs": [],
      "source": [
        "import numpy as np\n",
        "import torch\n",
        "import torch.nn as nn\n",
        "import torch.optim as optim\n",
        "import time\n",
        "import matplotlib.pyplot as plt\n",
        "import seaborn as sn\n",
        "import pandas as pd\n",
        "from torchvision import datasets, transforms, models\n",
        "from torch.utils.data import DataLoader\n",
        "from sklearn.metrics import confusion_matrix"
      ]
    },
    {
      "cell_type": "code",
      "source": [
        "from google.colab import drive\n",
        "drive.mount('/content/drive')"
      ],
      "metadata": {
        "colab": {
          "base_uri": "https://localhost:8080/"
        },
        "id": "2hiZ_cC1hFj0",
        "outputId": "49400170-96a9-4e60-f1e7-cf489869f244"
      },
      "execution_count": null,
      "outputs": [
        {
          "output_type": "stream",
          "name": "stdout",
          "text": [
            "Mounted at /content/drive\n"
          ]
        }
      ]
    },
    {
      "cell_type": "code",
      "source": [
        "# Configuración inicial\n",
        "img_width, img_height = 200, 100\n",
        "train_data_dir = '/content/drive/MyDrive/Colab Notebooks/Imágenes Ordenadas/Mas40/Entrenamiento'\n",
        "validation_data_dir = '/content/drive/MyDrive/Colab Notebooks/Imágenes Ordenadas/Mas40/Validación'\n",
        "nb_train_samples = 255\n",
        "nb_validation_samples = 51\n",
        "epochs = 30\n",
        "batch_size = 8\n",
        "\n",
        "torch.manual_seed(0)\n",
        "device = torch.device(\"cuda\" if torch.cuda.is_available() else \"cpu\")"
      ],
      "metadata": {
        "id": "_ThfmYudg-9g"
      },
      "execution_count": null,
      "outputs": []
    },
    {
      "cell_type": "code",
      "source": [
        "train_transforms = transforms.Compose([\n",
        "    transforms.Resize((img_height, img_width)),\n",
        "    transforms.RandomRotation(degrees=(0, 30)),# Rotación aleatoria entre 0 y 30 grados\n",
        "    transforms.RandomEqualize(), # Ajuste de brillo aleatorio (Equalize)\n",
        "    transforms.RandomAdjustSharpness(sharpness_factor=2),# Ajuste de nitidez aleatorio con un factor de 2\n",
        "    transforms.RandomHorizontalFlip(),# Volteo horizontal aleatorio con una probabilidad del 50%\n",
        "    transforms.RandomVerticalFlip(),# Volteo vertical aleatorio con una probabilidad del 50%\n",
        "\n",
        "\n",
        "    transforms.ToTensor(),\n",
        "    transforms.Normalize(mean=[0.5, 0.5, 0.5], std=[0.5, 0.5, 0.5])\n",
        "])\n",
        "\n",
        "\n"
      ],
      "metadata": {
        "id": "151LgkMJhHCT"
      },
      "execution_count": null,
      "outputs": []
    },
    {
      "cell_type": "code",
      "source": [
        "\n",
        "validation_transforms = transforms.Compose([\n",
        "    transforms.Resize((img_height, img_width)),\n",
        "    transforms.ToTensor(),\n",
        "    transforms.Normalize(mean=[0.5, 0.5, 0.5], std=[0.5, 0.5, 0.5])\n",
        "])\n",
        "\n",
        "# Datasets y DataLoaders\n",
        "train_dataset = datasets.ImageFolder(train_data_dir, transform=train_transforms)\n",
        "validation_dataset = datasets.ImageFolder(validation_data_dir, transform=validation_transforms)\n",
        "\n",
        "train_loader = DataLoader(train_dataset, batch_size=batch_size, shuffle=True)\n",
        "validation_loader = DataLoader(validation_dataset, batch_size=batch_size, shuffle=False)"
      ],
      "metadata": {
        "id": "SUx4YpdjhOKC"
      },
      "execution_count": null,
      "outputs": []
    },
    {
      "cell_type": "code",
      "source": [
        "\n",
        "# Definición del modelo basado en ResNet\n",
        "class ResNetCustom(nn.Module):\n",
        "    def __init__(self, num_classes=3):\n",
        "        super(ResNetCustom, self).__init__()\n",
        "        self.model = models.resnet18(pretrained=True)\n",
        "        self.model.fc = nn.Linear(self.model.fc.in_features, num_classes)\n",
        "\n",
        "    def forward(self, x):\n",
        "        return self.model(x)\n",
        "\n",
        "# Early Stopping\n",
        "class EarlyStopping:\n",
        "    def __init__(self, patience=5, delta=0):\n",
        "        self.patience = patience\n",
        "        self.delta = delta\n",
        "        self.best_score = None\n",
        "        self.early_stop = False\n",
        "        self.counter = 0\n",
        "        self.best_model_state = None\n",
        "\n",
        "    def __call__(self, val_loss, model):\n",
        "        score = -val_loss\n",
        "        if self.best_score is None or score > self.best_score + self.delta:\n",
        "            self.best_score = score\n",
        "            self.best_model_state = model.state_dict()\n",
        "            self.counter = 0\n",
        "        else:\n",
        "            self.counter += 1\n",
        "            if self.counter >= self.patience:\n",
        "                self.early_stop = True\n",
        "\n",
        "    def load_best_model(self, model):\n",
        "        model.load_state_dict(self.best_model_state)\n"
      ],
      "metadata": {
        "id": "pKoy-NNchR38"
      },
      "execution_count": null,
      "outputs": []
    },
    {
      "cell_type": "code",
      "source": [
        "\n",
        "# Entrenamiento del modelo\n",
        "model = ResNetCustom().to(device)\n",
        "criterion = nn.CrossEntropyLoss()\n",
        "optimizer = optim.Adam(model.parameters(), lr=0.0001)\n",
        "early_stopping = EarlyStopping(patience=5, delta=0.001)\n",
        "\n",
        "tiempo_inicial = time.time()\n",
        "train_accuracies, val_accuracies = [], []\n",
        "\n",
        "for epoch in range(epochs):\n",
        "    model.train()\n",
        "    correct, total, running_loss = 0, 0, 0.0\n",
        "    for inputs, labels in train_loader:\n",
        "        inputs, labels = inputs.to(device), labels.to(device)\n",
        "        optimizer.zero_grad()\n",
        "        outputs = model(inputs)\n",
        "        loss = criterion(outputs, labels)\n",
        "        loss.backward()\n",
        "        optimizer.step()\n",
        "\n",
        "        running_loss += loss.item() * inputs.size(0)\n",
        "        _, predicted = torch.max(outputs, 1)\n",
        "        total += labels.size(0)\n",
        "        correct += (predicted == labels).sum().item()\n",
        "\n",
        "    train_acc = correct / total\n",
        "    train_accuracies.append(train_acc)\n",
        "\n",
        "#Cambiar ------------------------\n",
        "\n",
        "    model.eval()\n",
        "    val_correct, val_total = 0, 0\n",
        "    with torch.no_grad():\n",
        "        for inputs, labels in validation_loader:\n",
        "            inputs, labels = inputs.to(device), labels.to(device)\n",
        "            outputs = model(inputs)\n",
        "            _, predicted = torch.max(outputs, 1)\n",
        "            val_total += labels.size(0)\n",
        "            val_correct += (predicted == labels).sum().item()\n",
        "\n",
        "    val_acc = val_correct / val_total\n",
        "    val_accuracies.append(val_acc)\n",
        "\n",
        "    print(f\"Epoch [{epoch + 1}/{epochs}], Train Accuracy: {train_acc:.4f}, Validation Accuracy: {val_acc:.4f}\")\n",
        "    early_stopping(val_acc, model)\n",
        "    if early_stopping.best_model_state is not None:\n",
        "        torch.save(model.state_dict(), 'best_model.pth')\n",
        "\n",
        "early_stopping.load_best_model(model)\n",
        "\n",
        "# Tiempo de ejecución\n",
        "tiempo_final = time.time()\n",
        "print(f\"Tiempo de ejecución: {tiempo_final - tiempo_inicial:.2f} segundos\")\n",
        "\n",
        "#Cambiar ------------------------"
      ],
      "metadata": {
        "colab": {
          "base_uri": "https://localhost:8080/"
        },
        "id": "SJm4bzAvhfPt",
        "outputId": "b77d7306-cde5-43ca-9a8b-33cfe8231159"
      },
      "execution_count": null,
      "outputs": [
        {
          "output_type": "stream",
          "name": "stderr",
          "text": [
            "/usr/local/lib/python3.11/dist-packages/torchvision/models/_utils.py:208: UserWarning: The parameter 'pretrained' is deprecated since 0.13 and may be removed in the future, please use 'weights' instead.\n",
            "  warnings.warn(\n",
            "/usr/local/lib/python3.11/dist-packages/torchvision/models/_utils.py:223: UserWarning: Arguments other than a weight enum or `None` for 'weights' are deprecated since 0.13 and may be removed in the future. The current behavior is equivalent to passing `weights=ResNet18_Weights.IMAGENET1K_V1`. You can also use `weights=ResNet18_Weights.DEFAULT` to get the most up-to-date weights.\n",
            "  warnings.warn(msg)\n",
            "Downloading: \"https://download.pytorch.org/models/resnet18-f37072fd.pth\" to /root/.cache/torch/hub/checkpoints/resnet18-f37072fd.pth\n",
            "100%|██████████| 44.7M/44.7M [00:00<00:00, 77.1MB/s]\n"
          ]
        },
        {
          "output_type": "stream",
          "name": "stdout",
          "text": [
            "Epoch [1/30], Train Accuracy: 0.8644, Validation Accuracy: 1.0000\n",
            "Epoch [2/30], Train Accuracy: 0.9774, Validation Accuracy: 1.0000\n",
            "Epoch [3/30], Train Accuracy: 0.9887, Validation Accuracy: 1.0000\n",
            "Epoch [4/30], Train Accuracy: 0.9944, Validation Accuracy: 1.0000\n",
            "Epoch [5/30], Train Accuracy: 0.9887, Validation Accuracy: 1.0000\n",
            "Epoch [6/30], Train Accuracy: 0.9944, Validation Accuracy: 1.0000\n",
            "Epoch [7/30], Train Accuracy: 0.9944, Validation Accuracy: 1.0000\n",
            "Epoch [8/30], Train Accuracy: 0.9718, Validation Accuracy: 1.0000\n",
            "Epoch [9/30], Train Accuracy: 0.9887, Validation Accuracy: 1.0000\n",
            "Epoch [10/30], Train Accuracy: 0.9887, Validation Accuracy: 1.0000\n",
            "Epoch [11/30], Train Accuracy: 0.9944, Validation Accuracy: 1.0000\n",
            "Epoch [12/30], Train Accuracy: 0.9774, Validation Accuracy: 1.0000\n",
            "Epoch [13/30], Train Accuracy: 0.9831, Validation Accuracy: 1.0000\n",
            "Epoch [14/30], Train Accuracy: 0.9944, Validation Accuracy: 1.0000\n",
            "Epoch [15/30], Train Accuracy: 0.9718, Validation Accuracy: 1.0000\n",
            "Epoch [16/30], Train Accuracy: 0.9831, Validation Accuracy: 1.0000\n",
            "Epoch [17/30], Train Accuracy: 0.9944, Validation Accuracy: 1.0000\n",
            "Epoch [18/30], Train Accuracy: 0.9944, Validation Accuracy: 1.0000\n",
            "Epoch [19/30], Train Accuracy: 0.9887, Validation Accuracy: 1.0000\n",
            "Epoch [20/30], Train Accuracy: 0.9944, Validation Accuracy: 1.0000\n",
            "Epoch [21/30], Train Accuracy: 1.0000, Validation Accuracy: 1.0000\n",
            "Epoch [22/30], Train Accuracy: 0.9774, Validation Accuracy: 1.0000\n",
            "Epoch [23/30], Train Accuracy: 0.9944, Validation Accuracy: 1.0000\n",
            "Epoch [24/30], Train Accuracy: 0.9661, Validation Accuracy: 1.0000\n",
            "Epoch [25/30], Train Accuracy: 0.9774, Validation Accuracy: 1.0000\n",
            "Epoch [26/30], Train Accuracy: 0.9944, Validation Accuracy: 1.0000\n",
            "Epoch [27/30], Train Accuracy: 1.0000, Validation Accuracy: 1.0000\n",
            "Epoch [28/30], Train Accuracy: 0.9944, Validation Accuracy: 1.0000\n",
            "Epoch [29/30], Train Accuracy: 1.0000, Validation Accuracy: 1.0000\n",
            "Epoch [30/30], Train Accuracy: 1.0000, Validation Accuracy: 1.0000\n",
            "Tiempo de ejecución: 347.79 segundos\n"
          ]
        }
      ]
    },
    {
      "cell_type": "code",
      "source": [
        "# Curvas de aprendizaje\n",
        "plt.plot(train_accuracies, label='Train Accuracy')\n",
        "plt.plot(val_accuracies, label='Validation Accuracy')\n",
        "plt.title('Model Accuracy')\n",
        "plt.xlabel('Epoch')\n",
        "plt.ylabel('Accuracy')\n",
        "plt.legend()\n",
        "plt.show()"
      ],
      "metadata": {
        "colab": {
          "base_uri": "https://localhost:8080/",
          "height": 472
        },
        "id": "7GnkzeHVhnWj",
        "outputId": "cb768bf8-965d-4f64-bd91-0d204f1accec"
      },
      "execution_count": null,
      "outputs": [
        {
          "output_type": "display_data",
          "data": {
            "text/plain": [
              "<Figure size 640x480 with 1 Axes>"
            ],
            "image/png": "[encoded data removed]"
          },
          "metadata": {}
        }
      ]
    },
    {
      "cell_type": "code",
      "source": [
        "#/////////////////////////////////////////////\n",
        "#\n",
        "# Guardar el modelo\n",
        "#\n",
        "#////////////////////////////////////////////\n",
        "\n",
        "model_path = '/content/drive/MyDrive/Colab Notebooks/VGG16_prueba5.pth'\n",
        "torch.save(model.state_dict(), model_path)  # Guardar los pesos del modelo\n",
        "print(f\"Modelo guardado en {model_path}\")\n"
      ],
      "metadata": {
        "colab": {
          "base_uri": "https://localhost:8080/"
        },
        "id": "mZ3v-6aIiMdu",
        "outputId": "ac9a3adb-8e87-40b7-d9a9-5805171f8b1e"
      },
      "execution_count": null,
      "outputs": [
        {
          "output_type": "stream",
          "name": "stdout",
          "text": [
            "Modelo guardado en /content/drive/MyDrive/Colab Notebooks/VGG16_prueba5.pth\n"
          ]
        }
      ]
    },
    {
      "cell_type": "code",
      "source": [
        "print(\"Clases detectadas por ImageFolder:\", train_dataset.classes)\n",
        "print(\"Clases detectadas por ImageFolder:\", validation_dataset.classes)"
      ],
      "metadata": {
        "colab": {
          "base_uri": "https://localhost:8080/"
        },
        "id": "CyieLaDUWBIh",
        "outputId": "4c7b1a71-77a4-46e0-b0dd-7ea080fc01df"
      },
      "execution_count": null,
      "outputs": [
        {
          "output_type": "stream",
          "name": "stdout",
          "text": [
            "Clases detectadas por ImageFolder: ['DR', 'HR', 'WNL']\n",
            "Clases detectadas por ImageFolder: ['DR', 'HR', 'WNL']\n"
          ]
        }
      ]
    },
    {
      "cell_type": "code",
      "source": [
        "\n",
        "# Matriz de Confusión\n",
        "model.eval()\n",
        "y_pred, y_true = [], []\n",
        "with torch.no_grad():\n",
        "    for inputs, labels in validation_loader:\n",
        "        inputs, labels = inputs.to(device), labels.to(device)\n",
        "        outputs = model(inputs)\n",
        "        _, predicted = torch.max(outputs, 1)\n",
        "        y_pred.extend(predicted.cpu().numpy())\n",
        "        y_true.extend(labels.cpu().numpy())\n",
        "\n",
        "cf_matrix = confusion_matrix(y_true, y_pred)\n",
        "df_cm = pd.DataFrame(cf_matrix / np.sum(cf_matrix, axis=1)[:, None], index=train_dataset.classes, columns=train_dataset.classes)\n",
        "plt.figure(figsize=(8, 6))\n",
        "sn.heatmap(df_cm, annot=True, fmt=\".2f\", cmap=\"Blues\")\n",
        "plt.title(\"Matriz de Confusión Normalizada\")\n",
        "plt.ylabel(\"Etiqueta Verdadera\")\n",
        "plt.xlabel(\"Predicción\")\n",
        "plt.show()\n",
        "\n",
        "print(f\"Final Validation Accuracy: {np.trace(cf_matrix) / np.sum(cf_matrix):.4f}\")\n"
      ],
      "metadata": {
        "colab": {
          "base_uri": "https://localhost:8080/",
          "height": 581
        },
        "id": "ZGX2iWxEiOZ9",
        "outputId": "09c55fb7-afa1-497e-9961-07a7c4b597d5"
      },
      "execution_count": null,
      "outputs": [
        {
          "output_type": "display_data",
          "data": {
            "text/plain": [
              "<Figure size 800x600 with 2 Axes>"
            ],
            "image/png": "[encoded data removed]"
          },
          "metadata": {}
        },
        {
          "output_type": "stream",
          "name": "stdout",
          "text": [
            "Final Validation Accuracy: 1.0000\n"
          ]
        }
      ]
    }
  ]
}